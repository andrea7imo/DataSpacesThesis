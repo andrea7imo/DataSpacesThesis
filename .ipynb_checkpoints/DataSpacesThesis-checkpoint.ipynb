{
 "cells": [
  {
   "cell_type": "markdown",
   "metadata": {},
   "source": [
    "# Data spaces thesis\n",
    "## Andrea Settimo 262710\n",
    "## Leonardo Tolomei 267638\n",
    "___________________________________________________________________________________________________________________"
   ]
  },
  {
   "cell_type": "markdown",
   "metadata": {},
   "source": [
    "## Import part"
   ]
  },
  {
   "cell_type": "code",
   "execution_count": 1,
   "metadata": {
    "pycharm": {
     "is_executing": false
    }
   },
   "outputs": [],
   "source": [
    "import pandas as pd\n",
    "from matplotlib import pyplot\n",
    "import matplotlib.pyplot as plt\n",
    "import numpy as np\n",
    "from sklearn.decomposition import PCA\n",
    "from sklearn.preprocessing import StandardScaler\n",
    "from sklearn.model_selection import train_test_split\n",
    "from sklearn.linear_model import LinearRegression\n",
    "from sklearn import model_selection\n",
    "from sklearn import metrics\n",
    "from sklearn.tree import DecisionTreeRegressor\n",
    "from sklearn.model_selection import GridSearchCV\n",
    "from sklearn.ensemble import RandomForestRegressor\n",
    "from sklearn.svm import SVR\n",
    "from sklearn.neighbors import KNeighborsRegressor\n"
   ]
  },
  {
   "cell_type": "markdown",
   "metadata": {},
   "source": [
    "___________________________________________________________________________________________________________________"
   ]
  },
  {
   "cell_type": "markdown",
   "metadata": {},
   "source": [
    "## 1. Load the dataset"
   ]
  },
  {
   "cell_type": "markdown",
   "metadata": {},
   "source": [
    "Link: http://archive.ics.uci.edu/ml/datasets/Forest+Fires"
   ]
  },
  {
   "cell_type": "code",
   "execution_count": 2,
   "metadata": {
    "pycharm": {
     "is_executing": false
    }
   },
   "outputs": [
    {
     "data": {
      "text/html": [
       "<div>\n",
       "<style scoped>\n",
       "    .dataframe tbody tr th:only-of-type {\n",
       "        vertical-align: middle;\n",
       "    }\n",
       "\n",
       "    .dataframe tbody tr th {\n",
       "        vertical-align: top;\n",
       "    }\n",
       "\n",
       "    .dataframe thead th {\n",
       "        text-align: right;\n",
       "    }\n",
       "</style>\n",
       "<table border=\"1\" class=\"dataframe\">\n",
       "  <thead>\n",
       "    <tr style=\"text-align: right;\">\n",
       "      <th></th>\n",
       "      <th>X</th>\n",
       "      <th>Y</th>\n",
       "      <th>month</th>\n",
       "      <th>day</th>\n",
       "      <th>FFMC</th>\n",
       "      <th>DMC</th>\n",
       "      <th>DC</th>\n",
       "      <th>ISI</th>\n",
       "      <th>temp</th>\n",
       "      <th>RH</th>\n",
       "      <th>wind</th>\n",
       "      <th>rain</th>\n",
       "      <th>area</th>\n",
       "    </tr>\n",
       "  </thead>\n",
       "  <tbody>\n",
       "    <tr>\n",
       "      <td>0</td>\n",
       "      <td>7</td>\n",
       "      <td>5</td>\n",
       "      <td>mar</td>\n",
       "      <td>fri</td>\n",
       "      <td>86.2</td>\n",
       "      <td>26.2</td>\n",
       "      <td>94.3</td>\n",
       "      <td>5.1</td>\n",
       "      <td>8.2</td>\n",
       "      <td>51</td>\n",
       "      <td>6.7</td>\n",
       "      <td>0.0</td>\n",
       "      <td>0.0</td>\n",
       "    </tr>\n",
       "    <tr>\n",
       "      <td>1</td>\n",
       "      <td>7</td>\n",
       "      <td>4</td>\n",
       "      <td>oct</td>\n",
       "      <td>tue</td>\n",
       "      <td>90.6</td>\n",
       "      <td>35.4</td>\n",
       "      <td>669.1</td>\n",
       "      <td>6.7</td>\n",
       "      <td>18.0</td>\n",
       "      <td>33</td>\n",
       "      <td>0.9</td>\n",
       "      <td>0.0</td>\n",
       "      <td>0.0</td>\n",
       "    </tr>\n",
       "    <tr>\n",
       "      <td>2</td>\n",
       "      <td>7</td>\n",
       "      <td>4</td>\n",
       "      <td>oct</td>\n",
       "      <td>sat</td>\n",
       "      <td>90.6</td>\n",
       "      <td>43.7</td>\n",
       "      <td>686.9</td>\n",
       "      <td>6.7</td>\n",
       "      <td>14.6</td>\n",
       "      <td>33</td>\n",
       "      <td>1.3</td>\n",
       "      <td>0.0</td>\n",
       "      <td>0.0</td>\n",
       "    </tr>\n",
       "    <tr>\n",
       "      <td>3</td>\n",
       "      <td>8</td>\n",
       "      <td>6</td>\n",
       "      <td>mar</td>\n",
       "      <td>fri</td>\n",
       "      <td>91.7</td>\n",
       "      <td>33.3</td>\n",
       "      <td>77.5</td>\n",
       "      <td>9.0</td>\n",
       "      <td>8.3</td>\n",
       "      <td>97</td>\n",
       "      <td>4.0</td>\n",
       "      <td>0.2</td>\n",
       "      <td>0.0</td>\n",
       "    </tr>\n",
       "    <tr>\n",
       "      <td>4</td>\n",
       "      <td>8</td>\n",
       "      <td>6</td>\n",
       "      <td>mar</td>\n",
       "      <td>sun</td>\n",
       "      <td>89.3</td>\n",
       "      <td>51.3</td>\n",
       "      <td>102.2</td>\n",
       "      <td>9.6</td>\n",
       "      <td>11.4</td>\n",
       "      <td>99</td>\n",
       "      <td>1.8</td>\n",
       "      <td>0.0</td>\n",
       "      <td>0.0</td>\n",
       "    </tr>\n",
       "  </tbody>\n",
       "</table>\n",
       "</div>"
      ],
      "text/plain": [
       "   X  Y month  day  FFMC   DMC     DC  ISI  temp  RH  wind  rain  area\n",
       "0  7  5   mar  fri  86.2  26.2   94.3  5.1   8.2  51   6.7   0.0   0.0\n",
       "1  7  4   oct  tue  90.6  35.4  669.1  6.7  18.0  33   0.9   0.0   0.0\n",
       "2  7  4   oct  sat  90.6  43.7  686.9  6.7  14.6  33   1.3   0.0   0.0\n",
       "3  8  6   mar  fri  91.7  33.3   77.5  9.0   8.3  97   4.0   0.2   0.0\n",
       "4  8  6   mar  sun  89.3  51.3  102.2  9.6  11.4  99   1.8   0.0   0.0"
      ]
     },
     "execution_count": 2,
     "metadata": {},
     "output_type": "execute_result"
    }
   ],
   "source": [
    "dataset = pd.read_csv(\"./Dataset/forestfires.csv\")\n",
    "dataset.head()                                      # Shows the first five rows.\n"
   ]
  },
  {
   "cell_type": "markdown",
   "metadata": {},
   "source": [
    "___________________________________________________________________________________________________________________"
   ]
  },
  {
   "cell_type": "markdown",
   "metadata": {},
   "source": [
    "## 2. Data Analysis"
   ]
  },
  {
   "cell_type": "markdown",
   "metadata": {},
   "source": [
    "**The dataset size is:**"
   ]
  },
  {
   "cell_type": "code",
   "execution_count": 3,
   "metadata": {
    "pycharm": {
     "is_executing": false
    }
   },
   "outputs": [
    {
     "data": {
      "text/plain": [
       "(517, 13)"
      ]
     },
     "execution_count": 3,
     "metadata": {},
     "output_type": "execute_result"
    }
   ],
   "source": [
    "dataset.shape\n"
   ]
  },
  {
   "cell_type": "markdown",
   "metadata": {},
   "source": [
    "**The dataset features are:**"
   ]
  },
  {
   "cell_type": "code",
   "execution_count": 4,
   "metadata": {
    "pycharm": {
     "is_executing": false
    }
   },
   "outputs": [
    {
     "name": "stdout",
     "output_type": "stream",
     "text": [
      "['X', 'Y', 'month', 'day', 'FFMC', 'DMC', 'DC', 'ISI', 'temp', 'RH', 'wind', 'rain', 'area']\n"
     ]
    }
   ],
   "source": [
    "featureNames = list(dataset)\n",
    "print(featureNames)\n"
   ]
  },
  {
   "cell_type": "markdown",
   "metadata": {},
   "source": [
    "**The meaning of features:**\n",
    "1. X - x-axis spatial coordinate within the Montesinho park map: 1 to 9 \n",
    "2. Y - y-axis spatial coordinate within the Montesinho park map: 2 to 9 \n",
    "3. month - month of the year: 'jan' to 'dec' \n",
    "4. day - day of the week: 'mon' to 'sun' \n",
    "5. FFMC - FFMC index from the FWI system: 18.7 to 96.20 \n",
    "6. DMC - DMC index from the FWI system: 1.1 to 291.3 \n",
    "7. DC - DC index from the FWI system: 7.9 to 860.6 \n",
    "8. ISI - ISI index from the FWI system: 0.0 to 56.10 \n",
    "9. temp - temperature in Celsius degrees: 2.2 to 33.30 \n",
    "10. RH - relative humidity in %: 15.0 to 100 \n",
    "11. wind - wind speed in km/h: 0.40 to 9.40 \n",
    "12. rain - outside rain in mm/m2 : 0.0 to 6.4 \n",
    "13. area - the burned area of the forest (in ha): 0.00 to 1090.84 (this feature is the target)"
   ]
  },
  {
   "cell_type": "markdown",
   "metadata": {},
   "source": [
    "**Statistics:**"
   ]
  },
  {
   "cell_type": "code",
   "execution_count": 5,
   "metadata": {
    "pycharm": {
     "is_executing": false
    }
   },
   "outputs": [
    {
     "name": "stdout",
     "output_type": "stream",
     "text": [
      "Missing values: X        0\n",
      "Y        0\n",
      "month    0\n",
      "day      0\n",
      "FFMC     0\n",
      "DMC      0\n",
      "DC       0\n",
      "ISI      0\n",
      "temp     0\n",
      "RH       0\n",
      "wind     0\n",
      "rain     0\n",
      "area     0\n",
      "dtype: int64\n"
     ]
    }
   ],
   "source": [
    "dataset.describe()\n",
    "print(f\"Missing values: {dataset.isnull().sum()}\")"
   ]
  },
  {
   "cell_type": "markdown",
   "metadata": {},
   "source": [
    "**Features distributions:**"
   ]
  },
  {
   "cell_type": "code",
   "execution_count": 6,
   "metadata": {},
   "outputs": [
    {
     "data": {
      "image/png": "[encoded data removed]",
      "text/plain": [
       "<Figure size 1080x720 with 12 Axes>"
      ]
     },
     "metadata": {
      "needs_background": "light"
     },
     "output_type": "display_data"
    }
   ],
   "source": [
    "dataset.hist(figsize=(15,10))\n",
    "plt.show()"
   ]
  },
  {
   "cell_type": "markdown",
   "metadata": {},
   "source": [
    "**Box plot:**"
   ]
  },
  {
   "cell_type": "code",
   "execution_count": 7,
   "metadata": {},
   "outputs": [
    {
     "data": {
      "image/png": "[encoded data removed]",
      "text/plain": [
       "<Figure size 1080x720 with 16 Axes>"
      ]
     },
     "metadata": {
      "needs_background": "light"
     },
     "output_type": "display_data"
    }
   ],
   "source": [
    "dataset.plot(kind='box', subplots=True, layout=(4,4), figsize=(15,10), sharex=False, sharey=False)\n",
    "plt.show()"
   ]
  },
  {
   "cell_type": "markdown",
   "metadata": {},
   "source": [
    "**Correletion Matrix:**"
   ]
  },
  {
   "cell_type": "markdown",
   "metadata": {},
   "source": [
    "Pre-Processing the dataset: trasformazione della features month e day in numeri cosi da poter calcolare la matrice di correlazione"
   ]
  },
  {
   "cell_type": "code",
   "execution_count": 8,
   "metadata": {
    "pycharm": {
     "is_executing": false
    },
    "scrolled": true
   },
   "outputs": [],
   "source": [
    "months = {\n",
    "    'jan': 0,\n",
    "    'feb': 1,\n",
    "    'mar': 2,\n",
    "    'apr': 3,\n",
    "    'may': 4,\n",
    "    'jun': 5,\n",
    "    'jul': 6,\n",
    "    'aug': 7,\n",
    "    'sep': 8,\n",
    "    'oct': 9,\n",
    "    'nov': 10,\n",
    "    'dec': 11,\n",
    "}\n",
    "days = {\n",
    "    'mon': 0,\n",
    "    'tue': 1,\n",
    "    'wed': 2,\n",
    "    'thu': 3,\n",
    "    'fri': 4,\n",
    "    'sat': 5,\n",
    "    'sun': 6\n",
    "}\n",
    "\n",
    "for i in range(len(dataset)):\n",
    "    dataset.iloc[i, 2] = months[dataset.iloc[i, 2]]\n",
    "    dataset.iloc[i, 3] = days[dataset.iloc[i, 3]]\n"
   ]
  },
  {
   "cell_type": "code",
   "execution_count": 9,
   "metadata": {
    "pycharm": {
     "is_executing": false
    }
   },
   "outputs": [
    {
     "data": {
      "text/html": [
       "<div>\n",
       "<style scoped>\n",
       "    .dataframe tbody tr th:only-of-type {\n",
       "        vertical-align: middle;\n",
       "    }\n",
       "\n",
       "    .dataframe tbody tr th {\n",
       "        vertical-align: top;\n",
       "    }\n",
       "\n",
       "    .dataframe thead th {\n",
       "        text-align: right;\n",
       "    }\n",
       "</style>\n",
       "<table border=\"1\" class=\"dataframe\">\n",
       "  <thead>\n",
       "    <tr style=\"text-align: right;\">\n",
       "      <th></th>\n",
       "      <th>X</th>\n",
       "      <th>Y</th>\n",
       "      <th>month</th>\n",
       "      <th>day</th>\n",
       "      <th>FFMC</th>\n",
       "      <th>DMC</th>\n",
       "      <th>DC</th>\n",
       "      <th>ISI</th>\n",
       "      <th>temp</th>\n",
       "      <th>RH</th>\n",
       "      <th>wind</th>\n",
       "      <th>rain</th>\n",
       "      <th>area</th>\n",
       "    </tr>\n",
       "  </thead>\n",
       "  <tbody>\n",
       "    <tr>\n",
       "      <td>0</td>\n",
       "      <td>7</td>\n",
       "      <td>5</td>\n",
       "      <td>2</td>\n",
       "      <td>4</td>\n",
       "      <td>86.2</td>\n",
       "      <td>26.2</td>\n",
       "      <td>94.3</td>\n",
       "      <td>5.1</td>\n",
       "      <td>8.2</td>\n",
       "      <td>51</td>\n",
       "      <td>6.7</td>\n",
       "      <td>0.0</td>\n",
       "      <td>0.0</td>\n",
       "    </tr>\n",
       "    <tr>\n",
       "      <td>1</td>\n",
       "      <td>7</td>\n",
       "      <td>4</td>\n",
       "      <td>9</td>\n",
       "      <td>1</td>\n",
       "      <td>90.6</td>\n",
       "      <td>35.4</td>\n",
       "      <td>669.1</td>\n",
       "      <td>6.7</td>\n",
       "      <td>18.0</td>\n",
       "      <td>33</td>\n",
       "      <td>0.9</td>\n",
       "      <td>0.0</td>\n",
       "      <td>0.0</td>\n",
       "    </tr>\n",
       "    <tr>\n",
       "      <td>2</td>\n",
       "      <td>7</td>\n",
       "      <td>4</td>\n",
       "      <td>9</td>\n",
       "      <td>5</td>\n",
       "      <td>90.6</td>\n",
       "      <td>43.7</td>\n",
       "      <td>686.9</td>\n",
       "      <td>6.7</td>\n",
       "      <td>14.6</td>\n",
       "      <td>33</td>\n",
       "      <td>1.3</td>\n",
       "      <td>0.0</td>\n",
       "      <td>0.0</td>\n",
       "    </tr>\n",
       "    <tr>\n",
       "      <td>3</td>\n",
       "      <td>8</td>\n",
       "      <td>6</td>\n",
       "      <td>2</td>\n",
       "      <td>4</td>\n",
       "      <td>91.7</td>\n",
       "      <td>33.3</td>\n",
       "      <td>77.5</td>\n",
       "      <td>9.0</td>\n",
       "      <td>8.3</td>\n",
       "      <td>97</td>\n",
       "      <td>4.0</td>\n",
       "      <td>0.2</td>\n",
       "      <td>0.0</td>\n",
       "    </tr>\n",
       "    <tr>\n",
       "      <td>4</td>\n",
       "      <td>8</td>\n",
       "      <td>6</td>\n",
       "      <td>2</td>\n",
       "      <td>6</td>\n",
       "      <td>89.3</td>\n",
       "      <td>51.3</td>\n",
       "      <td>102.2</td>\n",
       "      <td>9.6</td>\n",
       "      <td>11.4</td>\n",
       "      <td>99</td>\n",
       "      <td>1.8</td>\n",
       "      <td>0.0</td>\n",
       "      <td>0.0</td>\n",
       "    </tr>\n",
       "  </tbody>\n",
       "</table>\n",
       "</div>"
      ],
      "text/plain": [
       "   X  Y  month  day  FFMC   DMC     DC  ISI  temp  RH  wind  rain  area\n",
       "0  7  5      2    4  86.2  26.2   94.3  5.1   8.2  51   6.7   0.0   0.0\n",
       "1  7  4      9    1  90.6  35.4  669.1  6.7  18.0  33   0.9   0.0   0.0\n",
       "2  7  4      9    5  90.6  43.7  686.9  6.7  14.6  33   1.3   0.0   0.0\n",
       "3  8  6      2    4  91.7  33.3   77.5  9.0   8.3  97   4.0   0.2   0.0\n",
       "4  8  6      2    6  89.3  51.3  102.2  9.6  11.4  99   1.8   0.0   0.0"
      ]
     },
     "execution_count": 9,
     "metadata": {},
     "output_type": "execute_result"
    }
   ],
   "source": [
    "dataset.head(5)"
   ]
  },
  {
   "cell_type": "code",
   "execution_count": 10,
   "metadata": {
    "pycharm": {
     "is_executing": false
    }
   },
   "outputs": [
    {
     "data": {
      "image/png": "[encoded data removed]",
      "text/plain": [
       "<Figure size 936x936 with 2 Axes>"
      ]
     },
     "metadata": {
      "needs_background": "light"
     },
     "output_type": "display_data"
    }
   ],
   "source": [
    "correlations = dataset.corr()\n",
    "fig, ax = plt.subplots(figsize=(13,13))\n",
    "im = ax.imshow(correlations)\n",
    "ax.set_xticks(np.arange(len(featureNames)))\n",
    "ax.set_yticks(np.arange(len(featureNames)))\n",
    "# label them with the respective list entries\n",
    "ax.set_xticklabels(featureNames)\n",
    "ax.set_yticklabels(featureNames)\n",
    "\n",
    "# Rotate the tick labels and set their alignment.\n",
    "plt.setp(ax.get_xticklabels(), rotation=45, ha=\"right\", rotation_mode=\"anchor\")\n",
    "\n",
    "# Loop over data dimensions and create text annotations.\n",
    "for i in range(len(featureNames)):\n",
    "    for j in range(len(featureNames)):\n",
    "        text = ax.text(j, i, \"{0:.2f}\".format(correlations.iloc[i, j]), ha=\"center\", va=\"center\", color=\"w\")\n",
    "cbar = ax.figure.colorbar(im, ax=ax)\n",
    "cbar.ax.set_ylabel(\"Correletion value\", rotation=-90, va=\"bottom\")\n",
    "\n",
    "ax.set_title(\"Heatmap for correlation matrix\")\n",
    "plt.show()\n"
   ]
  },
  {
   "cell_type": "markdown",
   "metadata": {},
   "source": [
    "The correletion matrix in detail:"
   ]
  },
  {
   "cell_type": "code",
   "execution_count": 11,
   "metadata": {
    "pycharm": {
     "is_executing": false
    },
    "scrolled": false
   },
   "outputs": [
    {
     "data": {
      "text/html": [
       "<div>\n",
       "<style scoped>\n",
       "    .dataframe tbody tr th:only-of-type {\n",
       "        vertical-align: middle;\n",
       "    }\n",
       "\n",
       "    .dataframe tbody tr th {\n",
       "        vertical-align: top;\n",
       "    }\n",
       "\n",
       "    .dataframe thead th {\n",
       "        text-align: right;\n",
       "    }\n",
       "</style>\n",
       "<table border=\"1\" class=\"dataframe\">\n",
       "  <thead>\n",
       "    <tr style=\"text-align: right;\">\n",
       "      <th></th>\n",
       "      <th>X</th>\n",
       "      <th>Y</th>\n",
       "      <th>month</th>\n",
       "      <th>day</th>\n",
       "      <th>FFMC</th>\n",
       "      <th>DMC</th>\n",
       "      <th>DC</th>\n",
       "      <th>ISI</th>\n",
       "      <th>temp</th>\n",
       "      <th>RH</th>\n",
       "      <th>wind</th>\n",
       "      <th>rain</th>\n",
       "      <th>area</th>\n",
       "    </tr>\n",
       "  </thead>\n",
       "  <tbody>\n",
       "    <tr>\n",
       "      <td>X</td>\n",
       "      <td>1.000000</td>\n",
       "      <td>0.539548</td>\n",
       "      <td>-0.065003</td>\n",
       "      <td>-0.024922</td>\n",
       "      <td>-0.021039</td>\n",
       "      <td>-0.048384</td>\n",
       "      <td>-0.085916</td>\n",
       "      <td>0.006210</td>\n",
       "      <td>-0.051258</td>\n",
       "      <td>0.085223</td>\n",
       "      <td>0.018798</td>\n",
       "      <td>0.065387</td>\n",
       "      <td>0.063385</td>\n",
       "    </tr>\n",
       "    <tr>\n",
       "      <td>Y</td>\n",
       "      <td>0.539548</td>\n",
       "      <td>1.000000</td>\n",
       "      <td>-0.066292</td>\n",
       "      <td>-0.005453</td>\n",
       "      <td>-0.046308</td>\n",
       "      <td>0.007782</td>\n",
       "      <td>-0.101178</td>\n",
       "      <td>-0.024488</td>\n",
       "      <td>-0.024103</td>\n",
       "      <td>0.062221</td>\n",
       "      <td>-0.020341</td>\n",
       "      <td>0.033234</td>\n",
       "      <td>0.044873</td>\n",
       "    </tr>\n",
       "    <tr>\n",
       "      <td>month</td>\n",
       "      <td>-0.065003</td>\n",
       "      <td>-0.066292</td>\n",
       "      <td>1.000000</td>\n",
       "      <td>-0.050837</td>\n",
       "      <td>0.291477</td>\n",
       "      <td>0.466645</td>\n",
       "      <td>0.868698</td>\n",
       "      <td>0.186597</td>\n",
       "      <td>0.368842</td>\n",
       "      <td>-0.095280</td>\n",
       "      <td>-0.086368</td>\n",
       "      <td>0.013438</td>\n",
       "      <td>0.056496</td>\n",
       "    </tr>\n",
       "    <tr>\n",
       "      <td>day</td>\n",
       "      <td>-0.024922</td>\n",
       "      <td>-0.005453</td>\n",
       "      <td>-0.050837</td>\n",
       "      <td>1.000000</td>\n",
       "      <td>-0.041068</td>\n",
       "      <td>0.062870</td>\n",
       "      <td>0.000105</td>\n",
       "      <td>0.032909</td>\n",
       "      <td>0.052190</td>\n",
       "      <td>0.092151</td>\n",
       "      <td>0.032478</td>\n",
       "      <td>-0.048340</td>\n",
       "      <td>0.023226</td>\n",
       "    </tr>\n",
       "    <tr>\n",
       "      <td>FFMC</td>\n",
       "      <td>-0.021039</td>\n",
       "      <td>-0.046308</td>\n",
       "      <td>0.291477</td>\n",
       "      <td>-0.041068</td>\n",
       "      <td>1.000000</td>\n",
       "      <td>0.382619</td>\n",
       "      <td>0.330512</td>\n",
       "      <td>0.531805</td>\n",
       "      <td>0.431532</td>\n",
       "      <td>-0.300995</td>\n",
       "      <td>-0.028485</td>\n",
       "      <td>0.056702</td>\n",
       "      <td>0.040122</td>\n",
       "    </tr>\n",
       "    <tr>\n",
       "      <td>DMC</td>\n",
       "      <td>-0.048384</td>\n",
       "      <td>0.007782</td>\n",
       "      <td>0.466645</td>\n",
       "      <td>0.062870</td>\n",
       "      <td>0.382619</td>\n",
       "      <td>1.000000</td>\n",
       "      <td>0.682192</td>\n",
       "      <td>0.305128</td>\n",
       "      <td>0.469594</td>\n",
       "      <td>0.073795</td>\n",
       "      <td>-0.105342</td>\n",
       "      <td>0.074790</td>\n",
       "      <td>0.072994</td>\n",
       "    </tr>\n",
       "    <tr>\n",
       "      <td>DC</td>\n",
       "      <td>-0.085916</td>\n",
       "      <td>-0.101178</td>\n",
       "      <td>0.868698</td>\n",
       "      <td>0.000105</td>\n",
       "      <td>0.330512</td>\n",
       "      <td>0.682192</td>\n",
       "      <td>1.000000</td>\n",
       "      <td>0.229154</td>\n",
       "      <td>0.496208</td>\n",
       "      <td>-0.039192</td>\n",
       "      <td>-0.203466</td>\n",
       "      <td>0.035861</td>\n",
       "      <td>0.049383</td>\n",
       "    </tr>\n",
       "    <tr>\n",
       "      <td>ISI</td>\n",
       "      <td>0.006210</td>\n",
       "      <td>-0.024488</td>\n",
       "      <td>0.186597</td>\n",
       "      <td>0.032909</td>\n",
       "      <td>0.531805</td>\n",
       "      <td>0.305128</td>\n",
       "      <td>0.229154</td>\n",
       "      <td>1.000000</td>\n",
       "      <td>0.394287</td>\n",
       "      <td>-0.132517</td>\n",
       "      <td>0.106826</td>\n",
       "      <td>0.067668</td>\n",
       "      <td>0.008258</td>\n",
       "    </tr>\n",
       "    <tr>\n",
       "      <td>temp</td>\n",
       "      <td>-0.051258</td>\n",
       "      <td>-0.024103</td>\n",
       "      <td>0.368842</td>\n",
       "      <td>0.052190</td>\n",
       "      <td>0.431532</td>\n",
       "      <td>0.469594</td>\n",
       "      <td>0.496208</td>\n",
       "      <td>0.394287</td>\n",
       "      <td>1.000000</td>\n",
       "      <td>-0.527390</td>\n",
       "      <td>-0.227116</td>\n",
       "      <td>0.069491</td>\n",
       "      <td>0.097844</td>\n",
       "    </tr>\n",
       "    <tr>\n",
       "      <td>RH</td>\n",
       "      <td>0.085223</td>\n",
       "      <td>0.062221</td>\n",
       "      <td>-0.095280</td>\n",
       "      <td>0.092151</td>\n",
       "      <td>-0.300995</td>\n",
       "      <td>0.073795</td>\n",
       "      <td>-0.039192</td>\n",
       "      <td>-0.132517</td>\n",
       "      <td>-0.527390</td>\n",
       "      <td>1.000000</td>\n",
       "      <td>0.069410</td>\n",
       "      <td>0.099751</td>\n",
       "      <td>-0.075519</td>\n",
       "    </tr>\n",
       "    <tr>\n",
       "      <td>wind</td>\n",
       "      <td>0.018798</td>\n",
       "      <td>-0.020341</td>\n",
       "      <td>-0.086368</td>\n",
       "      <td>0.032478</td>\n",
       "      <td>-0.028485</td>\n",
       "      <td>-0.105342</td>\n",
       "      <td>-0.203466</td>\n",
       "      <td>0.106826</td>\n",
       "      <td>-0.227116</td>\n",
       "      <td>0.069410</td>\n",
       "      <td>1.000000</td>\n",
       "      <td>0.061119</td>\n",
       "      <td>0.012317</td>\n",
       "    </tr>\n",
       "    <tr>\n",
       "      <td>rain</td>\n",
       "      <td>0.065387</td>\n",
       "      <td>0.033234</td>\n",
       "      <td>0.013438</td>\n",
       "      <td>-0.048340</td>\n",
       "      <td>0.056702</td>\n",
       "      <td>0.074790</td>\n",
       "      <td>0.035861</td>\n",
       "      <td>0.067668</td>\n",
       "      <td>0.069491</td>\n",
       "      <td>0.099751</td>\n",
       "      <td>0.061119</td>\n",
       "      <td>1.000000</td>\n",
       "      <td>-0.007366</td>\n",
       "    </tr>\n",
       "    <tr>\n",
       "      <td>area</td>\n",
       "      <td>0.063385</td>\n",
       "      <td>0.044873</td>\n",
       "      <td>0.056496</td>\n",
       "      <td>0.023226</td>\n",
       "      <td>0.040122</td>\n",
       "      <td>0.072994</td>\n",
       "      <td>0.049383</td>\n",
       "      <td>0.008258</td>\n",
       "      <td>0.097844</td>\n",
       "      <td>-0.075519</td>\n",
       "      <td>0.012317</td>\n",
       "      <td>-0.007366</td>\n",
       "      <td>1.000000</td>\n",
       "    </tr>\n",
       "  </tbody>\n",
       "</table>\n",
       "</div>"
      ],
      "text/plain": [
       "              X         Y     month       day      FFMC       DMC        DC  \\\n",
       "X      1.000000  0.539548 -0.065003 -0.024922 -0.021039 -0.048384 -0.085916   \n",
       "Y      0.539548  1.000000 -0.066292 -0.005453 -0.046308  0.007782 -0.101178   \n",
       "month -0.065003 -0.066292  1.000000 -0.050837  0.291477  0.466645  0.868698   \n",
       "day   -0.024922 -0.005453 -0.050837  1.000000 -0.041068  0.062870  0.000105   \n",
       "FFMC  -0.021039 -0.046308  0.291477 -0.041068  1.000000  0.382619  0.330512   \n",
       "DMC   -0.048384  0.007782  0.466645  0.062870  0.382619  1.000000  0.682192   \n",
       "DC    -0.085916 -0.101178  0.868698  0.000105  0.330512  0.682192  1.000000   \n",
       "ISI    0.006210 -0.024488  0.186597  0.032909  0.531805  0.305128  0.229154   \n",
       "temp  -0.051258 -0.024103  0.368842  0.052190  0.431532  0.469594  0.496208   \n",
       "RH     0.085223  0.062221 -0.095280  0.092151 -0.300995  0.073795 -0.039192   \n",
       "wind   0.018798 -0.020341 -0.086368  0.032478 -0.028485 -0.105342 -0.203466   \n",
       "rain   0.065387  0.033234  0.013438 -0.048340  0.056702  0.074790  0.035861   \n",
       "area   0.063385  0.044873  0.056496  0.023226  0.040122  0.072994  0.049383   \n",
       "\n",
       "            ISI      temp        RH      wind      rain      area  \n",
       "X      0.006210 -0.051258  0.085223  0.018798  0.065387  0.063385  \n",
       "Y     -0.024488 -0.024103  0.062221 -0.020341  0.033234  0.044873  \n",
       "month  0.186597  0.368842 -0.095280 -0.086368  0.013438  0.056496  \n",
       "day    0.032909  0.052190  0.092151  0.032478 -0.048340  0.023226  \n",
       "FFMC   0.531805  0.431532 -0.300995 -0.028485  0.056702  0.040122  \n",
       "DMC    0.305128  0.469594  0.073795 -0.105342  0.074790  0.072994  \n",
       "DC     0.229154  0.496208 -0.039192 -0.203466  0.035861  0.049383  \n",
       "ISI    1.000000  0.394287 -0.132517  0.106826  0.067668  0.008258  \n",
       "temp   0.394287  1.000000 -0.527390 -0.227116  0.069491  0.097844  \n",
       "RH    -0.132517 -0.527390  1.000000  0.069410  0.099751 -0.075519  \n",
       "wind   0.106826 -0.227116  0.069410  1.000000  0.061119  0.012317  \n",
       "rain   0.067668  0.069491  0.099751  0.061119  1.000000 -0.007366  \n",
       "area   0.008258  0.097844 -0.075519  0.012317 -0.007366  1.000000  "
      ]
     },
     "execution_count": 11,
     "metadata": {},
     "output_type": "execute_result"
    }
   ],
   "source": [
    "correlations"
   ]
  },
  {
   "cell_type": "markdown",
   "metadata": {},
   "source": [
    "**Target value**:"
   ]
  },
  {
   "cell_type": "code",
   "execution_count": 12,
   "metadata": {},
   "outputs": [
    {
     "data": {
      "image/png": "[encoded data removed]",
      "text/plain": [
       "<Figure size 432x288 with 1 Axes>"
      ]
     },
     "metadata": {
      "needs_background": "light"
     },
     "output_type": "display_data"
    }
   ],
   "source": [
    "dataset['area'].hist(bins=50)\n",
    "plt.title('Histogram of burnt area (in ha)')\n",
    "plt.show()"
   ]
  },
  {
   "cell_type": "markdown",
   "metadata": {},
   "source": [
    "Burnt area is very skewed, with the majority of the fires presenting a small size. The logarithm function can be applied to reduce skewness and improve symmetry. More precisely, ln(x+1) transform can be applied and model prediction will need to be post-processed with the inverse transformation."
   ]
  },
  {
   "cell_type": "code",
   "execution_count": 13,
   "metadata": {},
   "outputs": [
    {
     "data": {
      "image/png": "[encoded data removed]",
      "text/plain": [
       "<Figure size 432x288 with 1 Axes>"
      ]
     },
     "metadata": {
      "needs_background": "light"
     },
     "output_type": "display_data"
    }
   ],
   "source": [
    "dataset['area'] = np.log(1 + dataset['area'])\n",
    "dataset['area'].hist(bins=50)\n",
    "plt.title('log(1 + area) transform of the area')\n",
    "plt.show()"
   ]
  },
  {
   "cell_type": "markdown",
   "metadata": {},
   "source": [
    "___________________________________________________________________________________________"
   ]
  },
  {
   "cell_type": "markdown",
   "metadata": {},
   "source": [
    "Removing the target attribute from the dataset structure."
   ]
  },
  {
   "cell_type": "code",
   "execution_count": 14,
   "metadata": {
    "pycharm": {
     "is_executing": false
    }
   },
   "outputs": [],
   "source": [
    "dataFrame = dataset\n",
    "dataset = dataset.values\n",
    "\n",
    "X = dataset[:,0:12]\n",
    "Y = dataset[:,12]"
   ]
  },
  {
   "cell_type": "markdown",
   "metadata": {},
   "source": [
    "**Dataset partition**\n",
    "The dataset partition is given by:\n",
    "- Train: 70%;\n",
    "- Test: 30%.\n",
    "\n",
    "Another operation on the dataset is the standardization."
   ]
  },
  {
   "cell_type": "code",
   "execution_count": 15,
   "metadata": {
    "pycharm": {
     "is_executing": false
    }
   },
   "outputs": [
    {
     "name": "stdout",
     "output_type": "stream",
     "text": [
      "The size of the training set is: 361\n",
      "The size of the test set is: 156\n"
     ]
    }
   ],
   "source": [
    "X_train, X_test, Y_train, Y_test = train_test_split( X, Y, test_size=0.30, random_state=0)\n",
    "\n",
    "print(\"The size of the training set is:\", len(X_train))\n",
    "print(\"The size of the test set is:\", len(X_test))\n",
    "\n",
    "scaler = StandardScaler()\n",
    "# Fit on training set only.\n",
    "scaler.fit(X_train)\n",
    "# Apply transform to both the training set and the test set.\n",
    "X_train = scaler.transform(X_train)\n",
    "X_test = scaler.transform(X_test)"
   ]
  },
  {
   "cell_type": "markdown",
   "metadata": {},
   "source": [
    "____________________________________________________________________"
   ]
  },
  {
   "cell_type": "markdown",
   "metadata": {},
   "source": [
    "## 3. Definition of functions"
   ]
  },
  {
   "cell_type": "markdown",
   "metadata": {},
   "source": [
    "### 3.1 PCA"
   ]
  },
  {
   "cell_type": "code",
   "execution_count": 16,
   "metadata": {
    "pycharm": {
     "is_executing": false
    }
   },
   "outputs": [],
   "source": [
    "def makePCA(X_train_, X_test_):\n",
    "    pca = PCA(n_components=.95)\n",
    "    pca.fit(X_train_)\n",
    "    X_train_pca = pca.transform(X_train_)\n",
    "    X_test_pca = pca.transform(X_test_)\n",
    "    return X_train_pca, X_test_pca"
   ]
  },
  {
   "cell_type": "markdown",
   "metadata": {},
   "source": [
    "Apply the mapping between the old representetion and the new representation."
   ]
  },
  {
   "cell_type": "code",
   "execution_count": 17,
   "metadata": {
    "pycharm": {
     "is_executing": false
    }
   },
   "outputs": [],
   "source": [
    "X_train_pca, X_test_pca = makePCA(X_train, X_test)"
   ]
  },
  {
   "cell_type": "markdown",
   "metadata": {},
   "source": [
    "Aggiungere il grafico della varianza"
   ]
  },
  {
   "cell_type": "markdown",
   "metadata": {},
   "source": [
    "### 3.2 Linear regression "
   ]
  },
  {
   "cell_type": "code",
   "execution_count": 18,
   "metadata": {
    "pycharm": {
     "is_executing": false
    }
   },
   "outputs": [],
   "source": [
    "def makeLinearRegression(X_train_, Y_train_, X_test_, Y_test_):\n",
    "    model = LinearRegression()\n",
    "    model.fit(X_train_, Y_train_)\n",
    "    Y_predict = model.predict(X_test_)\n",
    "    print(\"Test results:\")\n",
    "    print(\"\\tRMSE:\", np.sqrt(metrics.mean_squared_error(Y_test_, Y_predict)))  # RMSE\n",
    "    print(\"\\tMAE:\", metrics.mean_absolute_error(Y_test_, Y_predict))\n",
    "    print(\"Train results:\")\n",
    "    Y_predict_train = model.predict(X_train_)\n",
    "    print(\"\\tRMSE:\", np.sqrt(metrics.mean_squared_error(Y_train_, Y_predict_train)))  # RMSE\n",
    "    print(\"\\tMAE:\", metrics.mean_absolute_error(Y_train_, Y_predict_train))"
   ]
  },
  {
   "cell_type": "markdown",
   "metadata": {},
   "source": [
    "**With PCA:**"
   ]
  },
  {
   "cell_type": "code",
   "execution_count": 19,
   "metadata": {},
   "outputs": [
    {
     "name": "stdout",
     "output_type": "stream",
     "text": [
      "Test results:\n",
      "\tRMSE: 1.521457665009469\n",
      "\tMAE: 1.2164999435336101\n",
      "Train results:\n",
      "\tRMSE: 1.3275040303369186\n",
      "\tMAE: 1.087017356042005\n"
     ]
    }
   ],
   "source": [
    "makeLinearRegression(X_train_pca, Y_train, X_test_pca, Y_test)"
   ]
  },
  {
   "cell_type": "markdown",
   "metadata": {},
   "source": [
    "**Without PCA:**"
   ]
  },
  {
   "cell_type": "code",
   "execution_count": 20,
   "metadata": {
    "pycharm": {
     "is_executing": false
    }
   },
   "outputs": [
    {
     "name": "stdout",
     "output_type": "stream",
     "text": [
      "Test results:\n",
      "\tRMSE: 1.526164421000578\n",
      "\tMAE: 1.2084178880527585\n",
      "Train results:\n",
      "\tRMSE: 1.3183701893031154\n",
      "\tMAE: 1.0761241834856519\n"
     ]
    }
   ],
   "source": [
    "makeLinearRegression(X_train, Y_train, X_test, Y_test)"
   ]
  },
  {
   "cell_type": "markdown",
   "metadata": {},
   "source": [
    "The prediction of the model with PCA is better then the result of the model without PCA.\n",
    "\n",
    "### 3.3 Decision Tree Regression"
   ]
  },
  {
   "cell_type": "code",
   "execution_count": 21,
   "metadata": {
    "pycharm": {
     "is_executing": false
    }
   },
   "outputs": [],
   "source": [
    "def makeDecisionTree(X_train_, Y_train_, X_test_, Y_test_):\n",
    "    decisionTree = GridSearchCV(estimator=DecisionTreeRegressor(),\n",
    "                                param_grid={'max_depth': [1, 2, 3, 5, 10, 15, 20], 'criterion': [\"mse\", \"friedman_mse\", \"mae\"]},\n",
    "                                cv=10, iid=False)\n",
    "    decisionTree.fit(X_train_, Y_train_)\n",
    "    Y_predict = decisionTree.predict(X_test_)\n",
    "    print(\"Params:\",decisionTree.best_params_)\n",
    "    print(\"Test results:\")\n",
    "    print(\"\\tRMSE:\", np.sqrt(metrics.mean_squared_error(Y_test_, Y_predict)))  # RMSE\n",
    "    print(\"\\tMAE:\", metrics.mean_absolute_error(Y_test_, Y_predict))\n",
    "    print(\"Train results:\")\n",
    "    Y_predict_train = decisionTree.predict(X_train_)\n",
    "    print(\"\\tRMSE:\", np.sqrt(metrics.mean_squared_error(Y_train_, Y_predict_train)))  # RMSE\n",
    "    print(\"\\tMAE:\", metrics.mean_absolute_error(Y_train_, Y_predict_train))"
   ]
  },
  {
   "cell_type": "markdown",
   "metadata": {},
   "source": [
    "**With PCA:**"
   ]
  },
  {
   "cell_type": "code",
   "execution_count": 22,
   "metadata": {},
   "outputs": [
    {
     "name": "stdout",
     "output_type": "stream",
     "text": [
      "Params: {'criterion': 'friedman_mse', 'max_depth': 1}\n",
      "Test results:\n",
      "\tRMSE: 1.5230150974274639\n",
      "\tMAE: 1.2197196089382167\n",
      "Train results:\n",
      "\tRMSE: 1.3232678620721239\n",
      "\tMAE: 1.0737538132343867\n"
     ]
    }
   ],
   "source": [
    "makeDecisionTree(X_train_pca, Y_train, X_test_pca, Y_test)"
   ]
  },
  {
   "cell_type": "markdown",
   "metadata": {},
   "source": [
    "**Without PCA:**"
   ]
  },
  {
   "cell_type": "code",
   "execution_count": 23,
   "metadata": {
    "pycharm": {
     "is_executing": false,
     "name": "#%%\n"
    }
   },
   "outputs": [
    {
     "name": "stdout",
     "output_type": "stream",
     "text": [
      "Params: {'criterion': 'friedman_mse', 'max_depth': 1}\n",
      "Test results:\n",
      "\tRMSE: 1.5271850069349655\n",
      "\tMAE: 1.2145514341853476\n",
      "Train results:\n",
      "\tRMSE: 1.3212002793374733\n",
      "\tMAE: 1.0727783774125212\n"
     ]
    }
   ],
   "source": [
    "makeDecisionTree(X_train, Y_train, X_test, Y_test)"
   ]
  },
  {
   "cell_type": "markdown",
   "metadata": {},
   "source": [
    "### 3.4 Random forest"
   ]
  },
  {
   "cell_type": "code",
   "execution_count": 24,
   "metadata": {},
   "outputs": [],
   "source": [
    "def makeRandomForest(X_train_, Y_train_, X_test_, Y_test_):\n",
    "    randomForest = GridSearchCV(estimator=RandomForestRegressor(n_estimators=100),\n",
    "                                param_grid={'max_depth': [1, 2, 3, 5, 10, 15, 20], 'criterion': [\"mse\", \"mae\"]},\n",
    "                                cv=10, iid=False, n_jobs=-1)\n",
    "    randomForest.fit(X_train_, Y_train_)\n",
    "    Y_predict = randomForest.predict(X_test_)\n",
    "    print(\"Params:\",randomForest.best_params_)\n",
    "    print(\"Test results:\")\n",
    "    print(\"\\tRMSE:\", np.sqrt(metrics.mean_squared_error(Y_test_, Y_predict)))  # RMSE\n",
    "    print(\"\\tMAE:\", metrics.mean_absolute_error(Y_test_, Y_predict))\n",
    "    print(\"Train results:\")\n",
    "    Y_predict_train = randomForest.predict(X_train_)\n",
    "    print(\"\\tRMSE:\", np.sqrt(metrics.mean_squared_error(Y_train_, Y_predict_train)))  # RMSE\n",
    "    print(\"\\tMAE:\", metrics.mean_absolute_error(Y_train_, Y_predict_train))"
   ]
  },
  {
   "cell_type": "markdown",
   "metadata": {},
   "source": [
    "**With PCA:**"
   ]
  },
  {
   "cell_type": "code",
   "execution_count": 25,
   "metadata": {},
   "outputs": [
    {
     "name": "stdout",
     "output_type": "stream",
     "text": [
      "Params: {'criterion': 'mse', 'max_depth': 1}\n",
      "Test results:\n",
      "\tRMSE: 1.513546315596392\n",
      "\tMAE: 1.2134682953402338\n",
      "Train results:\n",
      "\tRMSE: 1.30469952003441\n",
      "\tMAE: 1.0833026296156816\n"
     ]
    }
   ],
   "source": [
    "makeRandomForest(X_train_pca, Y_train, X_test_pca, Y_test)"
   ]
  },
  {
   "cell_type": "markdown",
   "metadata": {},
   "source": [
    "**Without PCA:**"
   ]
  },
  {
   "cell_type": "code",
   "execution_count": 26,
   "metadata": {},
   "outputs": [
    {
     "name": "stdout",
     "output_type": "stream",
     "text": [
      "Params: {'criterion': 'mse', 'max_depth': 1}\n",
      "Test results:\n",
      "\tRMSE: 1.5169046351012165\n",
      "\tMAE: 1.2133385698985228\n",
      "Train results:\n",
      "\tRMSE: 1.317447940716109\n",
      "\tMAE: 1.081958668122222\n"
     ]
    }
   ],
   "source": [
    "makeRandomForest(X_train, Y_train, X_test, Y_test)"
   ]
  },
  {
   "cell_type": "markdown",
   "metadata": {},
   "source": [
    "### 3.5 SVR"
   ]
  },
  {
   "cell_type": "code",
   "execution_count": 27,
   "metadata": {},
   "outputs": [],
   "source": [
    "def makeSVR(X_train_, Y_train_, X_test_, Y_test_):\n",
    "    svr = GridSearchCV(estimator=SVR(),\n",
    "                                param_grid={'C': [0.001, 0.01, 0.1, 1, 10, 100, 1000], 'gamma': [0.001, 0.01, 0.1, 1, 10, 100, 1000], 'kernel': ['linear', 'rbf'], 'epsilon': [0.001, 0.01, 0.1, 1, 10, 100, 1000]},\n",
    "                                cv=10, iid=False, verbose=1, n_jobs=-1)\n",
    "    svr.fit(X_train_, Y_train_)\n",
    "    Y_predict = svr.predict(X_test_)\n",
    "    print(\"Params:\",svr.best_params_)\n",
    "    print(\"Test results:\")\n",
    "    print(\"\\tRMSE:\", np.sqrt(metrics.mean_squared_error(Y_test_, Y_predict)))  # RMSE\n",
    "    print(\"\\tMAE:\", metrics.mean_absolute_error(Y_test_, Y_predict))\n",
    "    print(\"Train results:\")\n",
    "    Y_predict_train = svr.predict(X_train_)\n",
    "    print(\"\\tRMSE:\", np.sqrt(metrics.mean_squared_error(Y_train_, Y_predict_train)))  # RMSE\n",
    "    print(\"\\tMAE:\", metrics.mean_absolute_error(Y_train_, Y_predict_train))"
   ]
  },
  {
   "cell_type": "markdown",
   "metadata": {},
   "source": [
    "**With PCA:**"
   ]
  },
  {
   "cell_type": "code",
   "execution_count": 28,
   "metadata": {},
   "outputs": [
    {
     "name": "stdout",
     "output_type": "stream",
     "text": [
      "Fitting 10 folds for each of 686 candidates, totalling 6860 fits\n"
     ]
    },
    {
     "name": "stderr",
     "output_type": "stream",
     "text": [
      "[Parallel(n_jobs=-1)]: Using backend LokyBackend with 8 concurrent workers.\n",
      "[Parallel(n_jobs=-1)]: Done 664 tasks      | elapsed:    0.8s\n",
      "[Parallel(n_jobs=-1)]: Done 5199 tasks      | elapsed:   32.9s\n"
     ]
    },
    {
     "name": "stdout",
     "output_type": "stream",
     "text": [
      "Params: {'C': 10, 'epsilon': 1, 'gamma': 0.01, 'kernel': 'rbf'}\n",
      "Test results:\n",
      "\tRMSE: 1.5240460914757004\n",
      "\tMAE: 1.2181294958588285\n",
      "Train results:\n",
      "\tRMSE: 1.30960033107935\n",
      "\tMAE: 1.071300894125916\n"
     ]
    },
    {
     "name": "stderr",
     "output_type": "stream",
     "text": [
      "[Parallel(n_jobs=-1)]: Done 6860 out of 6860 | elapsed: 38.4min finished\n"
     ]
    }
   ],
   "source": [
    "makeSVR(X_train_pca, Y_train, X_test_pca, Y_test)"
   ]
  },
  {
   "cell_type": "markdown",
   "metadata": {},
   "source": [
    "**Without PCA:**"
   ]
  },
  {
   "cell_type": "code",
   "execution_count": 29,
   "metadata": {},
   "outputs": [
    {
     "name": "stdout",
     "output_type": "stream",
     "text": [
      "Fitting 10 folds for each of 686 candidates, totalling 6860 fits\n"
     ]
    },
    {
     "name": "stderr",
     "output_type": "stream",
     "text": [
      "[Parallel(n_jobs=-1)]: Using backend LokyBackend with 8 concurrent workers.\n"
     ]
    },
    {
     "name": "stdout",
     "output_type": "stream",
     "text": [
      "Params: {'C': 100, 'epsilon': 1, 'gamma': 0.001, 'kernel': 'rbf'}\n",
      "Test results:\n",
      "\tRMSE: 1.5230431051135782\n",
      "\tMAE: 1.2157821069734678\n",
      "Train results:\n",
      "\tRMSE: 1.3283352801636417\n",
      "\tMAE: 1.089303018761867\n"
     ]
    },
    {
     "name": "stderr",
     "output_type": "stream",
     "text": [
      "[Parallel(n_jobs=-1)]: Done 6860 out of 6860 | elapsed: 32.7min finished\n"
     ]
    }
   ],
   "source": [
    "makeSVR(X_train, Y_train, X_test, Y_test)"
   ]
  },
  {
   "cell_type": "markdown",
   "metadata": {},
   "source": [
    "### 3.6 K-NN"
   ]
  },
  {
   "cell_type": "code",
   "execution_count": 30,
   "metadata": {},
   "outputs": [],
   "source": [
    "def makeKNN(X_train_, Y_train_, X_test_, Y_test_):\n",
    "    knn = GridSearchCV(estimator=KNeighborsRegressor(),\n",
    "                                param_grid={'n_neighbors': [1, 3, 5, 7, 9, 13, 15, 17, 19], 'p': [1, 2]},\n",
    "                                cv=10, iid=False, verbose=1, n_jobs=-1)\n",
    "    knn.fit(X_train_, Y_train_)\n",
    "    Y_predict = knn.predict(X_test_)\n",
    "    print(\"Params:\",knn.best_params_)\n",
    "    print(\"Test results:\")\n",
    "    print(\"\\tRMSE:\", np.sqrt(metrics.mean_squared_error(Y_test_, Y_predict)))  # RMSE\n",
    "    print(\"\\tMAE:\", metrics.mean_absolute_error(Y_test_, Y_predict))\n",
    "    print(\"Train results:\")\n",
    "    Y_predict_train = knn.predict(X_train_)\n",
    "    print(\"\\tRMSE:\", np.sqrt(metrics.mean_squared_error(Y_train_, Y_predict_train)))  # RMSE\n",
    "    print(\"\\tMAE:\", metrics.mean_absolute_error(Y_train_, Y_predict_train))"
   ]
  },
  {
   "cell_type": "markdown",
   "metadata": {},
   "source": [
    "**With PCA:**"
   ]
  },
  {
   "cell_type": "code",
   "execution_count": 31,
   "metadata": {},
   "outputs": [
    {
     "name": "stdout",
     "output_type": "stream",
     "text": [
      "Fitting 10 folds for each of 18 candidates, totalling 180 fits\n"
     ]
    },
    {
     "name": "stderr",
     "output_type": "stream",
     "text": [
      "[Parallel(n_jobs=-1)]: Using backend LokyBackend with 8 concurrent workers.\n"
     ]
    },
    {
     "name": "stdout",
     "output_type": "stream",
     "text": [
      "Params: {'n_neighbors': 19, 'p': 1}\n",
      "Test results:\n",
      "\tRMSE: 1.5420862823053485\n",
      "\tMAE: 1.226995495491759\n",
      "Train results:\n",
      "\tRMSE: 1.3085397375907986\n",
      "\tMAE: 1.0587002621274857\n"
     ]
    },
    {
     "name": "stderr",
     "output_type": "stream",
     "text": [
      "[Parallel(n_jobs=-1)]: Done 180 out of 180 | elapsed:    0.4s finished\n"
     ]
    }
   ],
   "source": [
    "makeKNN(X_train_pca, Y_train, X_test_pca, Y_test)"
   ]
  },
  {
   "cell_type": "markdown",
   "metadata": {},
   "source": [
    "**Without PCA:**"
   ]
  },
  {
   "cell_type": "code",
   "execution_count": 32,
   "metadata": {},
   "outputs": [
    {
     "name": "stderr",
     "output_type": "stream",
     "text": [
      "[Parallel(n_jobs=-1)]: Using backend LokyBackend with 8 concurrent workers.\n"
     ]
    },
    {
     "name": "stdout",
     "output_type": "stream",
     "text": [
      "Fitting 10 folds for each of 18 candidates, totalling 180 fits\n",
      "Params: {'n_neighbors': 19, 'p': 2}\n",
      "Test results:\n",
      "\tRMSE: 1.5567013061066273\n",
      "\tMAE: 1.2427130505456252\n",
      "Train results:\n",
      "\tRMSE: 1.2948447208481906\n",
      "\tMAE: 1.0407068343087602\n"
     ]
    },
    {
     "name": "stderr",
     "output_type": "stream",
     "text": [
      "[Parallel(n_jobs=-1)]: Done 180 out of 180 | elapsed:    0.6s finished\n"
     ]
    }
   ],
   "source": [
    "makeKNN(X_train, Y_train, X_test, Y_test)"
   ]
  },
  {
   "cell_type": "markdown",
   "metadata": {},
   "source": [
    "___________________________________________________________________________________________________________________"
   ]
  },
  {
   "cell_type": "markdown",
   "metadata": {},
   "source": [
    "## 4. Features selection"
   ]
  },
  {
   "cell_type": "markdown",
   "metadata": {},
   "source": [
    "### 4.1 STFWI "
   ]
  },
  {
   "cell_type": "markdown",
   "metadata": {},
   "source": [
    "STFWI – using spatial, temporal and the four FWI components:\n",
    "- X\n",
    "- Y\n",
    "- month\n",
    "- day \n",
    "- FFMC\n",
    "- DMC\n",
    "- DC\n",
    "- ISI"
   ]
  },
  {
   "cell_type": "code",
   "execution_count": 33,
   "metadata": {},
   "outputs": [],
   "source": [
    "dataset_STFWI = dataFrame[['X', 'Y', 'month', 'day', 'FFMC', 'DMC', 'DC', 'ISI', 'area']].values\n",
    "\n",
    "X_STFWI = dataset_STFWI[:,0:8]\n",
    "Y_STFWI = dataset_STFWI[:,8]"
   ]
  },
  {
   "cell_type": "code",
   "execution_count": 34,
   "metadata": {},
   "outputs": [],
   "source": [
    "X_train_STFWI, X_test_STFWI, Y_train_STFWI, Y_test_STFWI = train_test_split( X_STFWI, Y_STFWI, test_size=0.30, random_state=0)\n",
    "\n",
    "scaler = StandardScaler()\n",
    "# Fit on training set only.\n",
    "scaler.fit(X_train_STFWI)\n",
    "# Apply transform to both the training set and the test set.\n",
    "X_train_STFWI = scaler.transform(X_train_STFWI)\n",
    "X_test_STFWI = scaler.transform(X_test_STFWI)"
   ]
  },
  {
   "cell_type": "markdown",
   "metadata": {},
   "source": [
    "**PCA**"
   ]
  },
  {
   "cell_type": "code",
   "execution_count": 35,
   "metadata": {},
   "outputs": [],
   "source": [
    "X_train_pca_STFWI, X_test_pca_STFWI = makePCA(X_train_STFWI, X_test_STFWI)"
   ]
  },
  {
   "cell_type": "markdown",
   "metadata": {},
   "source": [
    "**Linear Regression**"
   ]
  },
  {
   "cell_type": "code",
   "execution_count": 36,
   "metadata": {},
   "outputs": [
    {
     "name": "stdout",
     "output_type": "stream",
     "text": [
      "With PCA:\n",
      "Test results:\n",
      "\tRMSE: 1.5278027053894834\n",
      "\tMAE: 1.224339588536563\n",
      "Train results:\n",
      "\tRMSE: 1.331546013632638\n",
      "\tMAE: 1.0966578035250538\n",
      "Without PCA:\n",
      "Test results:\n",
      "\tRMSE: 1.524763146443445\n",
      "\tMAE: 1.2072872750284944\n",
      "Train results:\n",
      "\tRMSE: 1.3201638897339627\n",
      "\tMAE: 1.0817776175857683\n"
     ]
    }
   ],
   "source": [
    "print(\"With PCA:\")\n",
    "makeLinearRegression(X_train_pca_STFWI, Y_train_STFWI, X_test_pca_STFWI, Y_test_STFWI)\n",
    "print(\"Without PCA:\")\n",
    "makeLinearRegression(X_train_STFWI, Y_train_STFWI, X_test_STFWI, Y_test_STFWI)"
   ]
  },
  {
   "cell_type": "markdown",
   "metadata": {},
   "source": [
    "**Decison Tree**"
   ]
  },
  {
   "cell_type": "code",
   "execution_count": 37,
   "metadata": {},
   "outputs": [
    {
     "name": "stdout",
     "output_type": "stream",
     "text": [
      "With PCA:\n",
      "Params: {'criterion': 'mse', 'max_depth': 1}\n",
      "Test results:\n",
      "\tRMSE: 1.5695346654993052\n",
      "\tMAE: 1.254674641874543\n",
      "Train results:\n",
      "\tRMSE: 1.3260227696396452\n",
      "\tMAE: 1.1090422708741945\n",
      "Without PCA:\n",
      "Params: {'criterion': 'mse', 'max_depth': 1}\n",
      "Test results:\n",
      "\tRMSE: 1.5150588080891034\n",
      "\tMAE: 1.2061019139557554\n",
      "Train results:\n",
      "\tRMSE: 1.325652155771835\n",
      "\tMAE: 1.0794189272806936\n"
     ]
    }
   ],
   "source": [
    "print(\"With PCA:\")\n",
    "makeDecisionTree(X_train_pca_STFWI, Y_train_STFWI, X_test_pca_STFWI, Y_test_STFWI)\n",
    "print(\"Without PCA:\")\n",
    "makeDecisionTree(X_train_STFWI, Y_train_STFWI, X_test_STFWI, Y_test_STFWI)"
   ]
  },
  {
   "cell_type": "markdown",
   "metadata": {},
   "source": [
    "**Random forest**"
   ]
  },
  {
   "cell_type": "code",
   "execution_count": 38,
   "metadata": {},
   "outputs": [
    {
     "name": "stdout",
     "output_type": "stream",
     "text": [
      "With PCA:\n",
      "Params: {'criterion': 'mse', 'max_depth': 1}\n",
      "Test results:\n",
      "\tRMSE: 1.5405572673305146\n",
      "\tMAE: 1.2297966205841773\n",
      "Train results:\n",
      "\tRMSE: 1.315316855385707\n",
      "\tMAE: 1.0943767551469308\n",
      "Without PCA:\n",
      "Params: {'criterion': 'mse', 'max_depth': 1}\n",
      "Test results:\n",
      "\tRMSE: 1.5147042807508273\n",
      "\tMAE: 1.2123822086118492\n",
      "Train results:\n",
      "\tRMSE: 1.32206659314645\n",
      "\tMAE: 1.0861630008428393\n"
     ]
    }
   ],
   "source": [
    "print(\"With PCA:\")\n",
    "makeRandomForest(X_train_pca_STFWI, Y_train_STFWI, X_test_pca_STFWI, Y_test_STFWI)\n",
    "print(\"Without PCA:\")\n",
    "makeRandomForest(X_train_STFWI, Y_train_STFWI, X_test_STFWI, Y_test_STFWI)"
   ]
  },
  {
   "cell_type": "markdown",
   "metadata": {},
   "source": [
    "**SVR**"
   ]
  },
  {
   "cell_type": "code",
   "execution_count": 39,
   "metadata": {},
   "outputs": [
    {
     "name": "stdout",
     "output_type": "stream",
     "text": [
      "With PCA:\n",
      "Fitting 10 folds for each of 686 candidates, totalling 6860 fits\n"
     ]
    },
    {
     "name": "stderr",
     "output_type": "stream",
     "text": [
      "[Parallel(n_jobs=-1)]: Using backend LokyBackend with 8 concurrent workers.\n",
      "[Parallel(n_jobs=-1)]: Done 700 tasks      | elapsed:    0.6s\n",
      "[Parallel(n_jobs=-1)]: Done 5767 tasks      | elapsed:   22.6s\n"
     ]
    },
    {
     "name": "stdout",
     "output_type": "stream",
     "text": [
      "Params: {'C': 1000, 'epsilon': 1, 'gamma': 0.001, 'kernel': 'rbf'}\n",
      "Test results:\n",
      "\tRMSE: 1.5301167918015772\n",
      "\tMAE: 1.222117537091321\n",
      "Train results:\n",
      "\tRMSE: 1.3247597439493077\n",
      "\tMAE: 1.0862355400096808\n",
      "Without PCA:\n",
      "Fitting 10 folds for each of 686 candidates, totalling 6860 fits\n"
     ]
    },
    {
     "name": "stderr",
     "output_type": "stream",
     "text": [
      "[Parallel(n_jobs=-1)]: Done 6860 out of 6860 | elapsed: 22.2min finished\n",
      "[Parallel(n_jobs=-1)]: Using backend LokyBackend with 8 concurrent workers.\n"
     ]
    },
    {
     "name": "stdout",
     "output_type": "stream",
     "text": [
      "Params: {'C': 1000, 'epsilon': 1, 'gamma': 0.001, 'kernel': 'rbf'}\n",
      "Test results:\n",
      "\tRMSE: 1.5268497083609993\n",
      "\tMAE: 1.2185449989483803\n",
      "Train results:\n",
      "\tRMSE: 1.3193112334025556\n",
      "\tMAE: 1.079803483604663\n"
     ]
    },
    {
     "name": "stderr",
     "output_type": "stream",
     "text": [
      "[Parallel(n_jobs=-1)]: Done 6860 out of 6860 | elapsed: 21.0min finished\n"
     ]
    }
   ],
   "source": [
    "print(\"With PCA:\")\n",
    "makeSVR(X_train_pca_STFWI, Y_train_STFWI, X_test_pca_STFWI, Y_test_STFWI)\n",
    "print(\"Without PCA:\")\n",
    "makeSVR(X_train_STFWI, Y_train_STFWI, X_test_STFWI, Y_test_STFWI)"
   ]
  },
  {
   "cell_type": "markdown",
   "metadata": {},
   "source": [
    "**K-NN**"
   ]
  },
  {
   "cell_type": "code",
   "execution_count": 40,
   "metadata": {},
   "outputs": [
    {
     "name": "stdout",
     "output_type": "stream",
     "text": [
      "With PCA:\n",
      "Fitting 10 folds for each of 18 candidates, totalling 180 fits\n"
     ]
    },
    {
     "name": "stderr",
     "output_type": "stream",
     "text": [
      "[Parallel(n_jobs=-1)]: Using backend LokyBackend with 8 concurrent workers.\n",
      "[Parallel(n_jobs=-1)]: Done 180 out of 180 | elapsed:    0.8s finished\n",
      "[Parallel(n_jobs=-1)]: Using backend LokyBackend with 8 concurrent workers.\n"
     ]
    },
    {
     "name": "stdout",
     "output_type": "stream",
     "text": [
      "Params: {'n_neighbors': 17, 'p': 2}\n",
      "Test results:\n",
      "\tRMSE: 1.5574572833991625\n",
      "\tMAE: 1.2570108043947195\n",
      "Train results:\n",
      "\tRMSE: 1.2985643177653308\n",
      "\tMAE: 1.052811924424528\n",
      "Without PCA:\n",
      "Fitting 10 folds for each of 18 candidates, totalling 180 fits\n",
      "Params: {'n_neighbors': 17, 'p': 2}\n",
      "Test results:\n",
      "\tRMSE: 1.5680696913409526\n",
      "\tMAE: 1.260617778774408\n",
      "Train results:\n",
      "\tRMSE: 1.28713408459403\n",
      "\tMAE: 1.0426155670090054\n"
     ]
    },
    {
     "name": "stderr",
     "output_type": "stream",
     "text": [
      "[Parallel(n_jobs=-1)]: Done 180 out of 180 | elapsed:    0.6s finished\n"
     ]
    }
   ],
   "source": [
    "print(\"With PCA:\")\n",
    "makeKNN(X_train_pca_STFWI, Y_train_STFWI, X_test_pca_STFWI, Y_test_STFWI)\n",
    "print(\"Without PCA:\")\n",
    "makeKNN(X_train_STFWI, Y_train_STFWI, X_test_STFWI, Y_test_STFWI)"
   ]
  },
  {
   "cell_type": "markdown",
   "metadata": {},
   "source": [
    "### 4.2 STM"
   ]
  },
  {
   "cell_type": "markdown",
   "metadata": {},
   "source": [
    "STM – with the spatial, temporal and four weather variables:\n",
    "- X\n",
    "- Y\n",
    "- month\n",
    "- day \n",
    "- temp\n",
    "- RH\n",
    "- wind\n",
    "- rain"
   ]
  },
  {
   "cell_type": "code",
   "execution_count": 41,
   "metadata": {},
   "outputs": [],
   "source": [
    "dataset_STM = dataFrame[['X', 'Y', 'month', 'day', 'temp', 'RH', 'wind', 'rain', 'area']].values\n",
    "\n",
    "X_STM = dataset_STM[:,0:8]\n",
    "Y_STM = dataset_STM[:,8]"
   ]
  },
  {
   "cell_type": "code",
   "execution_count": 42,
   "metadata": {},
   "outputs": [],
   "source": [
    "X_train_STM, X_test_STM, Y_train_STM, Y_test_STM = train_test_split( X_STM, Y_STM, test_size=0.30, random_state=0)\n",
    "\n",
    "scaler = StandardScaler()\n",
    "# Fit on training set only.\n",
    "scaler.fit(X_train_STM)\n",
    "# Apply transform to both the training set and the test set.\n",
    "X_train_STM = scaler.transform(X_train_STM)\n",
    "X_test_STM = scaler.transform(X_test_STM)"
   ]
  },
  {
   "cell_type": "markdown",
   "metadata": {},
   "source": [
    "**PCA**"
   ]
  },
  {
   "cell_type": "code",
   "execution_count": 43,
   "metadata": {},
   "outputs": [],
   "source": [
    "X_train_pca_STM, X_test_pca_STM = makePCA(X_train_STM, X_test_STM)"
   ]
  },
  {
   "cell_type": "markdown",
   "metadata": {},
   "source": [
    "**Linear Regression**"
   ]
  },
  {
   "cell_type": "code",
   "execution_count": 44,
   "metadata": {},
   "outputs": [
    {
     "name": "stdout",
     "output_type": "stream",
     "text": [
      "With PCA:\n",
      "Test results:\n",
      "\tRMSE: 1.5181544595454892\n",
      "\tMAE: 1.2101206865959195\n",
      "Train results:\n",
      "\tRMSE: 1.3287170370200618\n",
      "\tMAE: 1.0896634309340008\n",
      "Without PCA:\n",
      "Test results:\n",
      "\tRMSE: 1.5247727144528225\n",
      "\tMAE: 1.2191378846840035\n",
      "Train results:\n",
      "\tRMSE: 1.3252997535644908\n",
      "\tMAE: 1.083446444746492\n"
     ]
    }
   ],
   "source": [
    "print(\"With PCA:\")\n",
    "makeLinearRegression(X_train_pca_STM, Y_train_STM, X_test_pca_STM, Y_test_STM)\n",
    "print(\"Without PCA:\")\n",
    "makeLinearRegression(X_train_STM, Y_train_STM, X_test_STM, Y_test_STM)"
   ]
  },
  {
   "cell_type": "markdown",
   "metadata": {},
   "source": [
    "**Decision Tree**"
   ]
  },
  {
   "cell_type": "code",
   "execution_count": 45,
   "metadata": {},
   "outputs": [
    {
     "name": "stdout",
     "output_type": "stream",
     "text": [
      "With PCA:\n",
      "Params: {'criterion': 'mse', 'max_depth': 1}\n",
      "Test results:\n",
      "\tRMSE: 1.5150588080891034\n",
      "\tMAE: 1.2061019139557552\n",
      "Train results:\n",
      "\tRMSE: 1.325652155771835\n",
      "\tMAE: 1.0794189272806936\n",
      "Without PCA:\n",
      "Params: {'criterion': 'friedman_mse', 'max_depth': 1}\n",
      "Test results:\n",
      "\tRMSE: 1.5271850069349653\n",
      "\tMAE: 1.2145514341853476\n",
      "Train results:\n",
      "\tRMSE: 1.321200279337473\n",
      "\tMAE: 1.0727783774125212\n"
     ]
    }
   ],
   "source": [
    "print(\"With PCA:\")\n",
    "makeDecisionTree(X_train_pca_STM, Y_train_STM, X_test_pca_STM, Y_test_STM)\n",
    "print(\"Without PCA:\")\n",
    "makeDecisionTree(X_train_STM, Y_train_STM, X_test_STM, Y_test_STM)"
   ]
  },
  {
   "cell_type": "markdown",
   "metadata": {},
   "source": [
    "**Random Forest**"
   ]
  },
  {
   "cell_type": "code",
   "execution_count": 46,
   "metadata": {},
   "outputs": [
    {
     "name": "stdout",
     "output_type": "stream",
     "text": [
      "With PCA:\n",
      "Params: {'criterion': 'mse', 'max_depth': 1}\n",
      "Test results:\n",
      "\tRMSE: 1.5232559288428853\n",
      "\tMAE: 1.2161302444327675\n",
      "Train results:\n",
      "\tRMSE: 1.314672245105069\n",
      "\tMAE: 1.083243949407328\n",
      "Without PCA:\n",
      "Params: {'criterion': 'mse', 'max_depth': 1}\n",
      "Test results:\n",
      "\tRMSE: 1.51314794770151\n",
      "\tMAE: 1.209153963534704\n",
      "Train results:\n",
      "\tRMSE: 1.3163624951237511\n",
      "\tMAE: 1.0776882592982218\n"
     ]
    }
   ],
   "source": [
    "print(\"With PCA:\")\n",
    "makeRandomForest(X_train_pca_STM, Y_train_STM, X_test_pca_STM, Y_test_STM)\n",
    "print(\"Without PCA:\")\n",
    "makeRandomForest(X_train_STM, Y_train_STM, X_test_STM, Y_test_STM)"
   ]
  },
  {
   "cell_type": "markdown",
   "metadata": {},
   "source": [
    "**SVR**"
   ]
  },
  {
   "cell_type": "code",
   "execution_count": 47,
   "metadata": {},
   "outputs": [
    {
     "name": "stdout",
     "output_type": "stream",
     "text": [
      "With PCA:\n",
      "Fitting 10 folds for each of 686 candidates, totalling 6860 fits\n"
     ]
    },
    {
     "name": "stderr",
     "output_type": "stream",
     "text": [
      "[Parallel(n_jobs=-1)]: Using backend LokyBackend with 8 concurrent workers.\n",
      "[Parallel(n_jobs=-1)]: Done 880 tasks      | elapsed:    0.7s\n",
      "[Parallel(n_jobs=-1)]: Done 6352 tasks      | elapsed:  7.6min\n",
      "[Parallel(n_jobs=-1)]: Done 6845 out of 6860 | elapsed: 12.4min remaining:    1.6s\n",
      "[Parallel(n_jobs=-1)]: Done 6860 out of 6860 | elapsed: 12.8min finished\n",
      "[Parallel(n_jobs=-1)]: Using backend LokyBackend with 8 concurrent workers.\n"
     ]
    },
    {
     "name": "stdout",
     "output_type": "stream",
     "text": [
      "Params: {'C': 100, 'epsilon': 1, 'gamma': 0.01, 'kernel': 'rbf'}\n",
      "Test results:\n",
      "\tRMSE: 1.516477586975856\n",
      "\tMAE: 1.2150723867142472\n",
      "Train results:\n",
      "\tRMSE: 1.2939591943820858\n",
      "\tMAE: 1.0558760111169214\n",
      "Without PCA:\n",
      "Fitting 10 folds for each of 686 candidates, totalling 6860 fits\n"
     ]
    },
    {
     "name": "stderr",
     "output_type": "stream",
     "text": [
      "[Parallel(n_jobs=-1)]: Done 664 tasks      | elapsed:    0.8s\n"
     ]
    },
    {
     "name": "stdout",
     "output_type": "stream",
     "text": [
      "Params: {'C': 10, 'epsilon': 1, 'gamma': 0.01, 'kernel': 'rbf'}\n",
      "Test results:\n",
      "\tRMSE: 1.5178653688083663\n",
      "\tMAE: 1.2110202609647411\n",
      "Train results:\n",
      "\tRMSE: 1.317708518618651\n",
      "\tMAE: 1.0776016006536293\n"
     ]
    },
    {
     "name": "stderr",
     "output_type": "stream",
     "text": [
      "[Parallel(n_jobs=-1)]: Done 6860 out of 6860 | elapsed: 15.6min finished\n"
     ]
    }
   ],
   "source": [
    "print(\"With PCA:\")\n",
    "makeSVR(X_train_pca_STM, Y_train_STM, X_test_pca_STM, Y_test_STM)\n",
    "print(\"Without PCA:\")\n",
    "makeSVR(X_train_STM, Y_train_STM, X_test_STM, Y_test_STM)"
   ]
  },
  {
   "cell_type": "markdown",
   "metadata": {},
   "source": [
    "**K-NN**"
   ]
  },
  {
   "cell_type": "code",
   "execution_count": 48,
   "metadata": {},
   "outputs": [
    {
     "name": "stdout",
     "output_type": "stream",
     "text": [
      "With PCA:\n",
      "Fitting 10 folds for each of 18 candidates, totalling 180 fits\n"
     ]
    },
    {
     "name": "stderr",
     "output_type": "stream",
     "text": [
      "[Parallel(n_jobs=-1)]: Using backend LokyBackend with 8 concurrent workers.\n",
      "[Parallel(n_jobs=-1)]: Done 180 out of 180 | elapsed:    0.2s finished\n"
     ]
    },
    {
     "name": "stdout",
     "output_type": "stream",
     "text": [
      "Params: {'n_neighbors': 19, 'p': 1}\n",
      "Test results:\n",
      "\tRMSE: 1.5770014736563194\n",
      "\tMAE: 1.2665129795776875\n",
      "Train results:\n",
      "\tRMSE: 1.311059198028629\n",
      "\tMAE: 1.0590647341219097\n",
      "Without PCA:\n",
      "Fitting 10 folds for each of 18 candidates, totalling 180 fits\n"
     ]
    },
    {
     "name": "stderr",
     "output_type": "stream",
     "text": [
      "[Parallel(n_jobs=-1)]: Using backend LokyBackend with 8 concurrent workers.\n"
     ]
    },
    {
     "name": "stdout",
     "output_type": "stream",
     "text": [
      "Params: {'n_neighbors': 19, 'p': 1}\n",
      "Test results:\n",
      "\tRMSE: 1.5806135937980168\n",
      "\tMAE: 1.2624265737628466\n",
      "Train results:\n",
      "\tRMSE: 1.3029571014866248\n",
      "\tMAE: 1.0524755434381796\n"
     ]
    },
    {
     "name": "stderr",
     "output_type": "stream",
     "text": [
      "[Parallel(n_jobs=-1)]: Done 180 out of 180 | elapsed:    0.2s finished\n"
     ]
    }
   ],
   "source": [
    "print(\"With PCA:\")\n",
    "makeKNN(X_train_pca_STM, Y_train_STM, X_test_pca_STM, Y_test_STM)\n",
    "print(\"Without PCA:\")\n",
    "makeKNN(X_train_STM, Y_train_STM, X_test_STM, Y_test_STM)"
   ]
  },
  {
   "cell_type": "markdown",
   "metadata": {},
   "source": [
    "### 4.3 FWI"
   ]
  },
  {
   "cell_type": "markdown",
   "metadata": {},
   "source": [
    "FWI – using only the four FWI components:\n",
    "- FFMC\n",
    "- DMC\n",
    "- DC\n",
    "- ISI"
   ]
  },
  {
   "cell_type": "code",
   "execution_count": 49,
   "metadata": {},
   "outputs": [],
   "source": [
    "dataset_FWI = dataFrame[['FFMC', 'DMC', 'DC', 'ISI', 'area']].values\n",
    "\n",
    "X_FWI = dataset_FWI[:,0:4]\n",
    "Y_FWI = dataset_FWI[:,4]"
   ]
  },
  {
   "cell_type": "code",
   "execution_count": 50,
   "metadata": {},
   "outputs": [],
   "source": [
    "X_train_FWI, X_test_FWI, Y_train_FWI, Y_test_FWI = train_test_split( X_FWI, Y_FWI, test_size=0.30, random_state=0)\n",
    "\n",
    "scaler = StandardScaler()\n",
    "# Fit on training set only.\n",
    "scaler.fit(X_train_FWI)\n",
    "# Apply transform to both the training set and the test set.\n",
    "X_train_STFWI = scaler.transform(X_train_FWI)\n",
    "X_test_STFWI = scaler.transform(X_test_FWI)"
   ]
  },
  {
   "cell_type": "markdown",
   "metadata": {},
   "source": [
    "**PCA**"
   ]
  },
  {
   "cell_type": "code",
   "execution_count": 51,
   "metadata": {},
   "outputs": [],
   "source": [
    "X_train_pca_FWI, X_test_pca_FWI = makePCA(X_train_FWI, X_test_FWI)"
   ]
  },
  {
   "cell_type": "markdown",
   "metadata": {},
   "source": [
    "**Linear Regression**"
   ]
  },
  {
   "cell_type": "code",
   "execution_count": 52,
   "metadata": {},
   "outputs": [
    {
     "name": "stdout",
     "output_type": "stream",
     "text": [
      "With PCA:\n",
      "Test results:\n",
      "\tRMSE: 1.519198317604352\n",
      "\tMAE: 1.2192866208853712\n",
      "Train results:\n",
      "\tRMSE: 1.3436997911871358\n",
      "\tMAE: 1.1126836926686565\n",
      "Without PCA:\n",
      "Test results:\n",
      "\tRMSE: 1.515982146571236\n",
      "\tMAE: 1.2143356418763824\n",
      "Train results:\n",
      "\tRMSE: 1.3429786851213568\n",
      "\tMAE: 1.1123521820931297\n"
     ]
    }
   ],
   "source": [
    "print(\"With PCA:\")\n",
    "makeLinearRegression(X_train_pca_FWI, Y_train_FWI, X_test_pca_FWI, Y_test_FWI)\n",
    "print(\"Without PCA:\")\n",
    "makeLinearRegression(X_train_FWI, Y_train_FWI, X_test_FWI, Y_test_FWI)"
   ]
  },
  {
   "cell_type": "markdown",
   "metadata": {},
   "source": [
    "**Decision Tree**"
   ]
  },
  {
   "cell_type": "code",
   "execution_count": 53,
   "metadata": {},
   "outputs": [
    {
     "name": "stdout",
     "output_type": "stream",
     "text": [
      "With PCA:\n",
      "Params: {'criterion': 'mse', 'max_depth': 1}\n",
      "Test results:\n",
      "\tRMSE: 1.5217442298058173\n",
      "\tMAE: 1.218785830571369\n",
      "Train results:\n",
      "\tRMSE: 1.3405042966218172\n",
      "\tMAE: 1.1049770038009692\n",
      "Without PCA:\n",
      "Params: {'criterion': 'friedman_mse', 'max_depth': 1}\n",
      "Test results:\n",
      "\tRMSE: 1.535838703457378\n",
      "\tMAE: 1.235384961822724\n",
      "Train results:\n",
      "\tRMSE: 1.3401553295041226\n",
      "\tMAE: 1.103906436502392\n"
     ]
    }
   ],
   "source": [
    "print(\"With PCA:\")\n",
    "makeDecisionTree(X_train_pca_FWI, Y_train_FWI, X_test_pca_FWI, Y_test_FWI)\n",
    "print(\"Without PCA:\")\n",
    "makeDecisionTree(X_train_FWI, Y_train_FWI, X_test_FWI, Y_test_FWI)"
   ]
  },
  {
   "cell_type": "markdown",
   "metadata": {},
   "source": [
    "**Random Forest**"
   ]
  },
  {
   "cell_type": "code",
   "execution_count": 54,
   "metadata": {},
   "outputs": [
    {
     "name": "stdout",
     "output_type": "stream",
     "text": [
      "With PCA:\n",
      "Params: {'criterion': 'mse', 'max_depth': 1}\n",
      "Test results:\n",
      "\tRMSE: 1.529498650951353\n",
      "\tMAE: 1.2252697536914785\n",
      "Train results:\n",
      "\tRMSE: 1.3368170188670485\n",
      "\tMAE: 1.105591148742153\n",
      "Without PCA:\n",
      "Params: {'criterion': 'mse', 'max_depth': 1}\n",
      "Test results:\n",
      "\tRMSE: 1.5287019208789987\n",
      "\tMAE: 1.228100136078499\n",
      "Train results:\n",
      "\tRMSE: 1.333889246157228\n",
      "\tMAE: 1.1009653510705135\n"
     ]
    }
   ],
   "source": [
    "print(\"With PCA:\")\n",
    "makeRandomForest(X_train_pca_FWI, Y_train_FWI, X_test_pca_FWI, Y_test_FWI)\n",
    "print(\"Without PCA:\")\n",
    "makeRandomForest(X_train_FWI, Y_train_FWI, X_test_FWI, Y_test_FWI)"
   ]
  },
  {
   "cell_type": "markdown",
   "metadata": {},
   "source": [
    "**SVR**"
   ]
  },
  {
   "cell_type": "code",
   "execution_count": 55,
   "metadata": {},
   "outputs": [
    {
     "name": "stdout",
     "output_type": "stream",
     "text": [
      "With PCA:\n",
      "Fitting 10 folds for each of 686 candidates, totalling 6860 fits\n"
     ]
    },
    {
     "name": "stderr",
     "output_type": "stream",
     "text": [
      "[Parallel(n_jobs=-1)]: Using backend LokyBackend with 8 concurrent workers.\n",
      "[Parallel(n_jobs=-1)]: Done 520 tasks      | elapsed:    0.7s\n",
      "[Parallel(n_jobs=-1)]: Done 3253 tasks      | elapsed:  5.0min\n",
      "[Parallel(n_jobs=-1)]: Done 6432 tasks      | elapsed: 281.3min\n"
     ]
    },
    {
     "name": "stdout",
     "output_type": "stream",
     "text": [
      "Params: {'C': 10, 'epsilon': 1, 'gamma': 0.001, 'kernel': 'rbf'}\n",
      "Test results:\n",
      "\tRMSE: 1.5196602453332972\n",
      "\tMAE: 1.2032275121955551\n",
      "Train results:\n",
      "\tRMSE: 1.2958212498230848\n",
      "\tMAE: 1.0539149508834913\n",
      "Without PCA:\n",
      "Fitting 10 folds for each of 686 candidates, totalling 6860 fits\n"
     ]
    },
    {
     "name": "stderr",
     "output_type": "stream",
     "text": [
      "[Parallel(n_jobs=-1)]: Done 6860 out of 6860 | elapsed: 297.5min finished\n",
      "[Parallel(n_jobs=-1)]: Using backend LokyBackend with 8 concurrent workers.\n",
      "[Parallel(n_jobs=-1)]: Done 232 tasks      | elapsed:    0.9s\n",
      "[Parallel(n_jobs=-1)]: Done 4999 tasks      | elapsed: 38.2min\n"
     ]
    },
    {
     "name": "stdout",
     "output_type": "stream",
     "text": [
      "Params: {'C': 0.1, 'epsilon': 1, 'gamma': 0.01, 'kernel': 'rbf'}\n",
      "Test results:\n",
      "\tRMSE: 1.5196947226290747\n",
      "\tMAE: 1.2184227567956567\n",
      "Train results:\n",
      "\tRMSE: 1.307817760273198\n",
      "\tMAE: 1.0793320437129834\n"
     ]
    },
    {
     "name": "stderr",
     "output_type": "stream",
     "text": [
      "[Parallel(n_jobs=-1)]: Done 6860 out of 6860 | elapsed: 104.7min finished\n"
     ]
    }
   ],
   "source": [
    "print(\"With PCA:\")\n",
    "makeSVR(X_train_pca_FWI, Y_train_FWI, X_test_pca_FWI, Y_test_FWI)\n",
    "print(\"Without PCA:\")\n",
    "makeSVR(X_train_FWI, Y_train_FWI, X_test_FWI, Y_test_FWI)"
   ]
  },
  {
   "cell_type": "markdown",
   "metadata": {},
   "source": [
    "**K-NN**"
   ]
  },
  {
   "cell_type": "code",
   "execution_count": 56,
   "metadata": {},
   "outputs": [
    {
     "name": "stdout",
     "output_type": "stream",
     "text": [
      "With PCA:\n",
      "Fitting 10 folds for each of 18 candidates, totalling 180 fits\n"
     ]
    },
    {
     "name": "stderr",
     "output_type": "stream",
     "text": [
      "[Parallel(n_jobs=-1)]: Using backend LokyBackend with 8 concurrent workers.\n",
      "[Parallel(n_jobs=-1)]: Done 180 out of 180 | elapsed:    0.8s finished\n",
      "[Parallel(n_jobs=-1)]: Using backend LokyBackend with 8 concurrent workers.\n"
     ]
    },
    {
     "name": "stdout",
     "output_type": "stream",
     "text": [
      "Params: {'n_neighbors': 9, 'p': 1}\n",
      "Test results:\n",
      "\tRMSE: 1.6444899981337204\n",
      "\tMAE: 1.295570017344395\n",
      "Train results:\n",
      "\tRMSE: 1.2576610611681809\n",
      "\tMAE: 1.0022761023394702\n",
      "Without PCA:\n",
      "Fitting 10 folds for each of 18 candidates, totalling 180 fits\n",
      "Params: {'n_neighbors': 19, 'p': 2}\n",
      "Test results:\n",
      "\tRMSE: 1.5628459173338196\n",
      "\tMAE: 1.2378467342362114\n",
      "Train results:\n",
      "\tRMSE: 1.3077808868651786\n",
      "\tMAE: 1.0629878851021601\n"
     ]
    },
    {
     "name": "stderr",
     "output_type": "stream",
     "text": [
      "[Parallel(n_jobs=-1)]: Done 180 out of 180 | elapsed:    0.6s finished\n"
     ]
    }
   ],
   "source": [
    "print(\"With PCA:\")\n",
    "makeKNN(X_train_pca_FWI, Y_train_FWI, X_test_pca_FWI, Y_test_FWI)\n",
    "print(\"Without PCA:\")\n",
    "makeKNN(X_train_FWI, Y_train_FWI, X_test_FWI, Y_test_FWI)"
   ]
  },
  {
   "cell_type": "markdown",
   "metadata": {},
   "source": [
    "### 4.4 Weather Conditions"
   ]
  },
  {
   "cell_type": "markdown",
   "metadata": {},
   "source": [
    "M – with the four weather conditions:\n",
    "- temp\n",
    "- RH\n",
    "- wind\n",
    "- rain"
   ]
  },
  {
   "cell_type": "code",
   "execution_count": 57,
   "metadata": {},
   "outputs": [],
   "source": [
    "dataset_M = dataFrame[['temp', 'RH', 'wind', 'rain', 'area']].values\n",
    "\n",
    "X_M = dataset_M[:,0:4]\n",
    "Y_M = dataset_M[:,4]"
   ]
  },
  {
   "cell_type": "code",
   "execution_count": 58,
   "metadata": {},
   "outputs": [],
   "source": [
    "X_train_M, X_test_M, Y_train_M, Y_test_M = train_test_split( X_M, Y_M, test_size=0.30, random_state=0)\n",
    "\n",
    "scaler = StandardScaler()\n",
    "# Fit on training set only.\n",
    "scaler.fit(X_train_M)\n",
    "# Apply transform to both the training set and the test set.\n",
    "X_train_M = scaler.transform(X_train_M)\n",
    "X_test_M = scaler.transform(X_test_M)"
   ]
  },
  {
   "cell_type": "markdown",
   "metadata": {},
   "source": [
    "**PCA**"
   ]
  },
  {
   "cell_type": "code",
   "execution_count": 59,
   "metadata": {},
   "outputs": [],
   "source": [
    "X_train_pca_M, X_test_pca_M = makePCA(X_train_M, X_test_M)"
   ]
  },
  {
   "cell_type": "markdown",
   "metadata": {},
   "source": [
    "**Linear Regression**"
   ]
  },
  {
   "cell_type": "code",
   "execution_count": 60,
   "metadata": {},
   "outputs": [
    {
     "name": "stdout",
     "output_type": "stream",
     "text": [
      "With PCA:\n",
      "Test results:\n",
      "\tRMSE: 1.5242809059539673\n",
      "\tMAE: 1.2238415320169718\n",
      "Train results:\n",
      "\tRMSE: 1.3397899080661808\n",
      "\tMAE: 1.1049175931556785\n",
      "Without PCA:\n",
      "Test results:\n",
      "\tRMSE: 1.5242809059539673\n",
      "\tMAE: 1.2238415320169718\n",
      "Train results:\n",
      "\tRMSE: 1.3397899080661808\n",
      "\tMAE: 1.1049175931556785\n"
     ]
    }
   ],
   "source": [
    "print(\"With PCA:\")\n",
    "makeLinearRegression(X_train_pca_M, Y_train_M, X_test_pca_M, Y_test_M)\n",
    "print(\"Without PCA:\")\n",
    "makeLinearRegression(X_train_M, Y_train_M, X_test_M, Y_test_M)"
   ]
  },
  {
   "cell_type": "markdown",
   "metadata": {},
   "source": [
    "**Decision Tree**"
   ]
  },
  {
   "cell_type": "code",
   "execution_count": 61,
   "metadata": {},
   "outputs": [
    {
     "name": "stdout",
     "output_type": "stream",
     "text": [
      "With PCA:\n",
      "Params: {'criterion': 'mse', 'max_depth': 1}\n",
      "Test results:\n",
      "\tRMSE: 1.5144100059558572\n",
      "\tMAE: 1.2061024649106773\n",
      "Train results:\n",
      "\tRMSE: 1.3268921615836997\n",
      "\tMAE: 1.091518191631895\n",
      "Without PCA:\n",
      "Params: {'criterion': 'mse', 'max_depth': 1}\n",
      "Test results:\n",
      "\tRMSE: 1.5271850069349655\n",
      "\tMAE: 1.214551434185348\n",
      "Train results:\n",
      "\tRMSE: 1.3212002793374733\n",
      "\tMAE: 1.0727783774125212\n"
     ]
    }
   ],
   "source": [
    "print(\"With PCA:\")\n",
    "makeDecisionTree(X_train_pca_M, Y_train_M, X_test_pca_M, Y_test_M)\n",
    "print(\"Without PCA:\")\n",
    "makeDecisionTree(X_train_M, Y_train_M, X_test_M, Y_test_M)"
   ]
  },
  {
   "cell_type": "markdown",
   "metadata": {},
   "source": [
    "**Random Forest**"
   ]
  },
  {
   "cell_type": "code",
   "execution_count": 62,
   "metadata": {},
   "outputs": [
    {
     "name": "stdout",
     "output_type": "stream",
     "text": [
      "With PCA:\n",
      "Params: {'criterion': 'mse', 'max_depth': 1}\n",
      "Test results:\n",
      "\tRMSE: 1.532273054045535\n",
      "\tMAE: 1.2258127069433873\n",
      "Train results:\n",
      "\tRMSE: 1.3205342656621388\n",
      "\tMAE: 1.0807378946846065\n",
      "Without PCA:\n",
      "Params: {'criterion': 'mse', 'max_depth': 1}\n",
      "Test results:\n",
      "\tRMSE: 1.5134441343093814\n",
      "\tMAE: 1.207632269633774\n",
      "Train results:\n",
      "\tRMSE: 1.3170407825461228\n",
      "\tMAE: 1.0756544962085013\n"
     ]
    }
   ],
   "source": [
    "print(\"With PCA:\")\n",
    "makeRandomForest(X_train_pca_M, Y_train_M, X_test_pca_M, Y_test_M)\n",
    "print(\"Without PCA:\")\n",
    "makeRandomForest(X_train_M, Y_train_M, X_test_M, Y_test_M)"
   ]
  },
  {
   "cell_type": "markdown",
   "metadata": {},
   "source": [
    "**SVR**"
   ]
  },
  {
   "cell_type": "code",
   "execution_count": 63,
   "metadata": {},
   "outputs": [
    {
     "name": "stdout",
     "output_type": "stream",
     "text": [
      "With PCA:\n",
      "Fitting 10 folds for each of 686 candidates, totalling 6860 fits\n"
     ]
    },
    {
     "name": "stderr",
     "output_type": "stream",
     "text": [
      "[Parallel(n_jobs=-1)]: Using backend LokyBackend with 8 concurrent workers.\n",
      "[Parallel(n_jobs=-1)]: Done 916 tasks      | elapsed:    0.7s\n",
      "[Parallel(n_jobs=-1)]: Done 6398 tasks      | elapsed: 10.0min\n",
      "[Parallel(n_jobs=-1)]: Done 6860 out of 6860 | elapsed: 12.9min finished\n",
      "[Parallel(n_jobs=-1)]: Using backend LokyBackend with 8 concurrent workers.\n"
     ]
    },
    {
     "name": "stdout",
     "output_type": "stream",
     "text": [
      "Params: {'C': 100, 'epsilon': 1, 'gamma': 0.01, 'kernel': 'rbf'}\n",
      "Test results:\n",
      "\tRMSE: 1.518363206504399\n",
      "\tMAE: 1.2077041180611388\n",
      "Train results:\n",
      "\tRMSE: 1.330822202859221\n",
      "\tMAE: 1.0899719061997868\n",
      "Without PCA:\n",
      "Fitting 10 folds for each of 686 candidates, totalling 6860 fits\n"
     ]
    },
    {
     "name": "stderr",
     "output_type": "stream",
     "text": [
      "[Parallel(n_jobs=-1)]: Done 844 tasks      | elapsed:    0.7s\n",
      "[Parallel(n_jobs=-1)]: Done 6358 tasks      | elapsed:  7.2min\n",
      "[Parallel(n_jobs=-1)]: Done 6845 out of 6860 | elapsed: 12.2min remaining:    1.6s\n"
     ]
    },
    {
     "name": "stdout",
     "output_type": "stream",
     "text": [
      "Params: {'C': 100, 'epsilon': 1, 'gamma': 0.01, 'kernel': 'rbf'}\n",
      "Test results:\n",
      "\tRMSE: 1.5183632065043844\n",
      "\tMAE: 1.2077041180611183\n",
      "Train results:\n",
      "\tRMSE: 1.3308222028592176\n",
      "\tMAE: 1.0899719061997826\n"
     ]
    },
    {
     "name": "stderr",
     "output_type": "stream",
     "text": [
      "[Parallel(n_jobs=-1)]: Done 6860 out of 6860 | elapsed: 12.6min finished\n"
     ]
    }
   ],
   "source": [
    "print(\"With PCA:\")\n",
    "makeSVR(X_train_pca_M, Y_train_M, X_test_pca_M, Y_test_M)\n",
    "print(\"Without PCA:\")\n",
    "makeSVR(X_train_M, Y_train_M, X_test_M, Y_test_M)"
   ]
  },
  {
   "cell_type": "markdown",
   "metadata": {},
   "source": [
    "**K-NN**"
   ]
  },
  {
   "cell_type": "code",
   "execution_count": 64,
   "metadata": {},
   "outputs": [
    {
     "name": "stderr",
     "output_type": "stream",
     "text": [
      "[Parallel(n_jobs=-1)]: Using backend LokyBackend with 8 concurrent workers.\n"
     ]
    },
    {
     "name": "stdout",
     "output_type": "stream",
     "text": [
      "With PCA:\n",
      "Fitting 10 folds for each of 18 candidates, totalling 180 fits\n",
      "Params: {'n_neighbors': 19, 'p': 1}\n",
      "Test results:\n",
      "\tRMSE: 1.5685404793275337\n",
      "\tMAE: 1.2305458795884863\n",
      "Train results:\n",
      "\tRMSE: 1.3143425299902063\n",
      "\tMAE: 1.0727424795748908\n",
      "Without PCA:\n",
      "Fitting 10 folds for each of 18 candidates, totalling 180 fits\n"
     ]
    },
    {
     "name": "stderr",
     "output_type": "stream",
     "text": [
      "[Parallel(n_jobs=-1)]: Done 180 out of 180 | elapsed:    0.2s finished\n",
      "[Parallel(n_jobs=-1)]: Using backend LokyBackend with 8 concurrent workers.\n"
     ]
    },
    {
     "name": "stdout",
     "output_type": "stream",
     "text": [
      "Params: {'n_neighbors': 19, 'p': 1}\n",
      "Test results:\n",
      "\tRMSE: 1.534683917798609\n",
      "\tMAE: 1.1881556015526444\n",
      "Train results:\n",
      "\tRMSE: 1.3174451935046074\n",
      "\tMAE: 1.069155512423531\n"
     ]
    },
    {
     "name": "stderr",
     "output_type": "stream",
     "text": [
      "[Parallel(n_jobs=-1)]: Done 180 out of 180 | elapsed:    0.1s finished\n"
     ]
    }
   ],
   "source": [
    "print(\"With PCA:\")\n",
    "makeKNN(X_train_pca_M, Y_train_M, X_test_pca_M, Y_test_M)\n",
    "print(\"Without PCA:\")\n",
    "makeKNN(X_train_M, Y_train_M, X_test_M, Y_test_M)"
   ]
  },
  {
   "cell_type": "code",
   "execution_count": null,
   "metadata": {},
   "outputs": [],
   "source": []
  }
 ],
 "metadata": {
  "kernelspec": {
   "display_name": "PyCharm (Thesis)",
   "language": "python",
   "name": "pycharm-b8b65b9d"
  },
  "language_info": {
   "codemirror_mode": {
    "name": "ipython",
    "version": 3
   },
   "file_extension": ".py",
   "mimetype": "text/x-python",
   "name": "python",
   "nbconvert_exporter": "python",
   "pygments_lexer": "ipython3",
   "version": "3.7.4"
  },
  "pycharm": {
   "stem_cell": {
    "cell_type": "raw",
    "metadata": {
     "collapsed": false
    },
    "source": []
   }
  }
 },
 "nbformat": 4,
 "nbformat_minor": 2
}
